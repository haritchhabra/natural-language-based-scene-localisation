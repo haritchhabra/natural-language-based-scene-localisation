{
  "nbformat": 4,
  "nbformat_minor": 0,
  "metadata": {
    "colab": {
      "provenance": []
    },
    "kernelspec": {
      "name": "python3",
      "display_name": "Python 3"
    },
    "language_info": {
      "name": "python"
    }
  },
  "cells": [
    {
      "cell_type": "code",
      "source": [
        "!pip install -q ultralytics pillow matplotlib scikit-learn\n",
        "\n",
        "import os\n",
        "import cv2\n",
        "import numpy as np\n",
        "from ultralytics import YOLOWorld\n",
        "import matplotlib.pyplot as plt\n",
        "from PIL import Image\n",
        "from sklearn.cluster import DBSCAN"
      ],
      "metadata": {
        "id": "Hiy2DKP1h2B_"
      },
      "execution_count": null,
      "outputs": []
    },
    {
      "cell_type": "code",
      "source": [
        "# STEP 1: Upload an image\n",
        "try:\n",
        "    from google.colab import files\n",
        "    uploaded = files.upload()\n",
        "    image_path = list(uploaded.keys())[0]\n",
        "except:\n",
        "    image_path = \"your_image.jpg\"  # fallback for local runs\n",
        "    assert os.path.exists(image_path), \"Image not found!\"\n",
        "\n",
        "#  STEP 2: Load YOLO-World model\n",
        "model = YOLOWorld(\"yolov8m-worldv2.pt\")  # Change to smaller model if needed\n",
        "\n",
        "#  STEP 3: Get prompt\n",
        "prompt = input(\"Enter your search prompt (e.g., 'person eating banana', 'car driving on road'  :  \").strip()\n",
        "\n",
        "# - STEP 4: Detect objects with YOLO-World\n",
        "model.set_classes([prompt])                                                                  # yolo world generates feauture vectors based on the prompt\n",
        "results = model.predict(source=image_path, imgsz=736, conf=0.25, iou=0.6, verbose=False)\n",
        "\n",
        "# Extract bounding boxes and centers\n",
        "boxes = results[0].boxes.xyxy.cpu().numpy() if len(results) else np.empty((0,4))\n",
        "confs = results[0].boxes.conf.cpu().numpy() if len(results) else np.empty((0,))\n",
        "centers = np.column_stack(((boxes[:,0] + boxes[:,2]) / 2, (boxes[:,1] + boxes[:,3]) / 2)) if len(boxes) else np.empty((0,2))\n",
        "\n",
        "#  STEP 5: Run DBSCAN to group detections\n",
        "labels = []\n",
        "if len(centers) > 0:\n",
        "    eps_value = 100  # distance threshold in pixels adjust for your image size\n",
        "    clustering = DBSCAN(eps=eps_value, min_samples=1).fit(centers)\n",
        "    labels = clustering.labels_\n",
        "else:\n",
        "    labels = np.array([])\n",
        "\n",
        "# STEP 6: Draw results\n",
        "img = cv2.imread(image_path)\n",
        "for idx, (box, conf) in enumerate(zip(boxes, confs)):\n",
        "    x1, y1, x2, y2 = map(int, box)\n",
        "    group_id = labels[idx] if len(labels) > 0 else -1\n",
        "    color = (0, 255, 0) if group_id != -1 else (0, 0, 255)\n",
        "    label_text = f\"{prompt} {conf:.2f} | Group {group_id}\"\n",
        "    cv2.rectangle(img, (x1, y1), (x2, y2), color, 2)\n",
        "    cv2.putText(img, label_text, (x1, y1 - 10),\n",
        "                cv2.FONT_HERSHEY_SIMPLEX, 0.5, color, 2)\n",
        "\n",
        "#  STEP 7: Save and display\n",
        "os.makedirs(\"search_results\", exist_ok=True)\n",
        "output_img_path = os.path.join(\"search_results\", \"grouped.jpg\")\n",
        "cv2.imwrite(output_img_path, img)\n",
        "\n",
        "plt.figure(figsize=(12, 8))\n",
        "plt.imshow(cv2.cvtColor(img, cv2.COLOR_BGR2RGB))\n",
        "plt.axis(\"off\")\n",
        "plt.title(f\"Detections & Groups for: {prompt}\")\n",
        "plt.show()\n",
        "\n",
        "# STEP 8: Print group summary\n",
        "if len(labels) > 0:\n",
        "    for g_id in sorted(set(labels)):\n",
        "        members = np.sum(labels == g_id)\n",
        "        print(f\"Group {g_id}: {members} objects\")\n",
        "else:\n",
        "    print(\"No objects detected.\") # for false queries\n"
      ],
      "metadata": {
        "id": "XHkvRCLOiCBB"
      },
      "execution_count": null,
      "outputs": []
    }
  ]
}